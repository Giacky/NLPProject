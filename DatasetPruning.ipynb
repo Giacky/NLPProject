{
 "cells": [
  {
   "cell_type": "markdown",
   "metadata": {},
   "source": [
    "# Dateset Pruning\n",
    "Seperate jupyter notebook to reduce the size of the dataset."
   ]
  },
  {
   "cell_type": "code",
   "execution_count": 4,
   "metadata": {},
   "outputs": [],
   "source": [
    "trainingAmount = 40000\n",
    "validationAmount = int(trainingAmount * 0.2)\n",
    "testAmount = 10000\n",
    "\n",
    "with open('review.json') as raw:\n",
    "    with open('training' + str(int(trainingAmount-validationAmount)) +'.json', 'w') as trainingSet: \n",
    "        for x in range(int(trainingAmount-validationAmount)):\n",
    "            line = raw.readline()\n",
    "            trainingSet.write(line)\n",
    "    with open('validation' + str(int(validationAmount)) +'.json', 'w') as validationSet: \n",
    "        for x in range(int(trainingAmount-validationAmount), trainingAmount ):\n",
    "            line = raw.readline()\n",
    "            validationSet.write(line)\n",
    "    with open('test' + str(int(testAmount)) + '.json', 'w') as testSet: \n",
    "        for x in range(trainingAmount, int(trainingAmount+testAmount)):\n",
    "            line = raw.readline()\n",
    "            testSet.write(line)"
   ]
  },
  {
   "cell_type": "code",
   "execution_count": null,
   "metadata": {},
   "outputs": [],
   "source": []
  }
 ],
 "metadata": {
  "kernelspec": {
   "display_name": "Python 3",
   "language": "python",
   "name": "python3"
  },
  "language_info": {
   "codemirror_mode": {
    "name": "ipython",
    "version": 3
   },
   "file_extension": ".py",
   "mimetype": "text/x-python",
   "name": "python",
   "nbconvert_exporter": "python",
   "pygments_lexer": "ipython3",
   "version": "3.7.3"
  }
 },
 "nbformat": 4,
 "nbformat_minor": 2
}
