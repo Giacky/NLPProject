{
 "cells": [
  {
   "cell_type": "markdown",
   "metadata": {},
   "source": [
    "# Title"
   ]
  },
  {
   "cell_type": "markdown",
   "metadata": {},
   "source": [
    "Importing relevant libraries"
   ]
  },
  {
   "cell_type": "code",
   "execution_count": null,
   "metadata": {},
   "outputs": [],
   "source": [
    "import numpy as num\n",
    "import scipy as sci\n",
    "import pandas as pd\n",
    "import matplotlib.pyplot as plt\n",
    "import nltk\n",
    "import sklearn as skl\n",
    "import xgboost\n",
    "import gensim\n",
    "import json\n",
    "import re\n",
    "import string\n",
    "import seaborn as sns"
   ]
  },
  {
   "cell_type": "code",
   "execution_count": null,
   "metadata": {},
   "outputs": [],
   "source": [
    "trainingAmount = 40000\n",
    "validationAmount = 0.2 * trainingAmount\n",
    "testAmount = 10000\n",
    "\n",
    "# Read JSON files, which are created in 'DatasetPruning' :\n",
    "df_train = pd.read_json('training' + str(trainingAmount) +'.json', lines=True)\n",
    "df_validation = pd.read_json('validation' + str(validationAmount) +'.json', lines = True)\n",
    "df_test = pd.read_json('test' + str(testAmount) +'.json', lines=True)\n",
    "\n",
    "# Reorder the columns of JSON files:\n",
    "df_train = df_train.drop(\"review_id\", axis=1).drop(\"business_id\", axis=1).drop(\"user_id\", axis=1).drop(\"date\", axis=1)\n",
    "df_train = df_train.reindex(['text','stars','useful','funny','cool'], axis=1)\n",
    "\n",
    "df_validation = df_train.drop(\"review_id\", axis=1).drop(\"business_id\", axis=1).drop(\"user_id\", axis=1).drop(\"date\", axis=1)\n",
    "df_validation = df_train.reindex(['text','stars','useful','funny','cool'], axis=1)\n",
    "\n",
    "df_test = df_test.drop(\"review_id\", axis=1).drop(\"business_id\", axis=1).drop(\"user_id\", axis=1).drop(\"date\", axis=1)\n",
    "df_test = df_test.reindex(['text','stars','useful','funny','cool'], axis=1)\n",
    "\n"
   ]
  },
  {
   "cell_type": "markdown",
   "metadata": {},
   "source": [
    "## Defining the clean method"
   ]
  },
  {
   "cell_type": "code",
   "execution_count": null,
   "metadata": {},
   "outputs": [],
   "source": [
    "def clean(text):\n",
    "    from nltk.stem import WordNetLemmatizer\n",
    "    from nltk.stem.snowball import SnowballStemmer\n",
    "    from nltk.tokenize import word_tokenize\n",
    "    \n",
    "     # Empty question\n",
    "    if type(text) != str:\n",
    "        return ''\n",
    "    \n",
    "    text = text.lower()\n",
    "    \n",
    "    # remove comma between numbers, i.e. 15,000 -> 15000\n",
    "    text = re.sub('(?<=[0-9])\\,(?=[0-9])', \"\", text)\n",
    "    \n",
    "    text = re.sub('[' + string.punctuation + ']', ' ', text)\n",
    "\n",
    "    text = re.sub('im', \"\", text)\n",
    "\n",
    "    \n",
    "    #Tokenizing text for normalizing more easily\n",
    "    tokenized_text = word_tokenize(text)\n",
    "    \n",
    "    \n",
    "    \n",
    "    #Removing stopwords\n",
    "    stopwords = nltk.corpus.stopwords.words('english')\n",
    "    kept_words = ['he', 'she', 'they', 'we']\n",
    "    for kw in kept_words:\n",
    "        stopwords.remove(kw)\n",
    "    \n",
    "    tokenized_text = [w for w in tokenized_text if not w in stopwords] \n",
    "    \n",
    "    \n",
    "    #Removing numbers\n",
    "    tokenized_text = [w for w in tokenized_text if w.isalpha()]\n",
    "    \n",
    "    \n",
    "    \n",
    "    #Putting tokens back together as a string\n",
    "    text = ''\n",
    "    for token in tokenized_text:\n",
    "        text += token + ' '\n",
    "        \n",
    "    \n",
    "    # Return a list of words\n",
    "    return text"
   ]
  },
  {
   "cell_type": "code",
   "execution_count": null,
   "metadata": {},
   "outputs": [],
   "source": [
    "df_test['length'] = df_test['text'].apply(len)\n",
    "df_validation['length'] = df_validation['text'].apply(len)\n",
    "df_train['length'] = df_train['text'].apply(len)\n"
   ]
  },
  {
   "cell_type": "code",
   "execution_count": null,
   "metadata": {},
   "outputs": [],
   "source": [
    "df_train.describe()"
   ]
  },
  {
   "cell_type": "markdown",
   "metadata": {},
   "source": [
    "Cleaning the data"
   ]
  },
  {
   "cell_type": "code",
   "execution_count": null,
   "metadata": {},
   "outputs": [],
   "source": [
    "df_train['cleaned_text'] = df_train['text'].apply(clean)\n",
    "df_validation['cleaned_text'] = df_validation[ 'text'].apply(clean)\n",
    "df_test['cleaned_text'] = df_test['text'].apply(clean)\n"
   ]
  },
  {
   "cell_type": "markdown",
   "metadata": {},
   "source": [
    "Saving all the necessary data in arrays"
   ]
  },
  {
   "cell_type": "code",
   "execution_count": null,
   "metadata": {},
   "outputs": [],
   "source": [
    "df_test"
   ]
  },
  {
   "cell_type": "code",
   "execution_count": null,
   "metadata": {},
   "outputs": [],
   "source": [
    "train = df_train['cleaned_text'].values\n",
    "test = df_test['cleaned_text'].values\n",
    "trainStars = df_train['stars'].values\n",
    "testStars = df_test['stars'].values"
   ]
  },
  {
   "cell_type": "markdown",
   "metadata": {},
   "source": [
    "## BOW model with Naïve Bayes Classifier"
   ]
  },
  {
   "cell_type": "code",
   "execution_count": 9,
   "metadata": {},
   "outputs": [],
   "source": [
    "from sklearn.feature_extraction.text import CountVectorizer\n",
    "from sklearn.naive_bayes import MultinomialNB\n",
    "\n",
    "vectorizer = CountVectorizer()\n",
    "trainVecs = vectorizer.fit_transform(train)\n",
    "testVecs = vectorizer.transform(test)"
   ]
  },
  {
   "cell_type": "code",
   "execution_count": 10,
   "metadata": {},
   "outputs": [
    {
     "data": {
      "text/plain": [
       "MultinomialNB(alpha=1.0, class_prior=None, fit_prior=True)"
      ]
     },
     "execution_count": 10,
     "metadata": {},
     "output_type": "execute_result"
    }
   ],
   "source": [
    "from sklearn.naive_bayes import MultinomialNB\n",
    "classifierNB = MultinomialNB()\n",
    "classifierNB.fit(trainVecs, trainStars)"
   ]
  },
  {
   "cell_type": "code",
   "execution_count": 11,
   "metadata": {},
   "outputs": [
    {
     "name": "stdout",
     "output_type": "stream",
     "text": [
      "60.096000000000004 %\n"
     ]
    }
   ],
   "source": [
    "testStars_predicted = classifierNB.predict(testVecs)\n",
    "print(classifierNB.score(testVecs, testStars)*100, \"%\")"
   ]
  },
  {
   "cell_type": "code",
   "execution_count": 12,
   "metadata": {},
   "outputs": [
    {
     "data": {
      "image/png": "[encoded data removed]",
      "text/plain": [
       "<Figure size 720x504 with 2 Axes>"
      ]
     },
     "metadata": {
      "needs_background": "light"
     },
     "output_type": "display_data"
    }
   ],
   "source": [
    "from sklearn.metrics import confusion_matrix\n",
    "confusion_matrix = confusion_matrix(testStars, testStars_predicted, labels=None, sample_weight=None)\n",
    "\n",
    "df_cm = pd.DataFrame(confusion_matrix, index = [i for i in \"12345\"],\n",
    "                  columns = [i for i in \"12345\"])\n",
    "plt.figure(figsize = (10,7))\n",
    "sns.heatmap(df_cm, annot=True, fmt='g')\n",
    "plt.ylabel('Actual')\n",
    "plt.xlabel('Predicted')\n",
    "plt.show()\n"
   ]
  },
  {
   "cell_type": "code",
   "execution_count": 13,
   "metadata": {},
   "outputs": [
    {
     "data": {
      "image/png": "[encoded data removed]",
      "text/plain": [
       "<Figure size 720x504 with 2 Axes>"
      ]
     },
     "metadata": {
      "needs_background": "light"
     },
     "output_type": "display_data"
    }
   ],
   "source": [
    "confusion_matrix_proportions = []\n",
    "for n in range(confusion_matrix.shape[0]):\n",
    "    confusion_matrix_proportions.append(confusion_matrix[n,:]/df_test.groupby('stars').count().at[n+1, 'text'])\n",
    "    \n",
    "confusion_matrix_proportions = num.array(confusion_matrix_proportions)\n",
    "\n",
    "df_cm = pd.DataFrame(confusion_matrix_proportions, index = [i for i in \"12345\"],\n",
    "                  columns = [i for i in \"12345\"])\n",
    "plt.figure(figsize = (10,7))\n",
    "sns.heatmap(df_cm, annot=True, fmt='g')\n",
    "plt.ylabel('Actual')\n",
    "plt.xlabel('Predicted')\n",
    "plt.show()"
   ]
  },
  {
   "cell_type": "code",
   "execution_count": 14,
   "metadata": {},
   "outputs": [
    {
     "data": {
      "text/plain": [
       "Counter({0: 15024, 1: 7647, 3: 460, 2: 1217, 4: 652})"
      ]
     },
     "execution_count": 14,
     "metadata": {},
     "output_type": "execute_result"
    }
   ],
   "source": [
    "import collections\n",
    "distance = num.abs(testStars - testStars_predicted)\n",
    "collections.Counter(distance)"
   ]
  },
  {
   "cell_type": "markdown",
   "metadata": {},
   "source": [
    "## Word2Vec model\n",
    "Tokenizing the words"
   ]
  },
  {
   "cell_type": "code",
   "execution_count": 10,
   "metadata": {},
   "outputs": [],
   "source": [
    "from gensim.models import Word2Vec\n",
    "from nltk.tokenize import word_tokenize\n",
    "\n",
    "train_tokenized = [word_tokenize(token) for token in train]\n",
    "test_tokenized = [word_tokenize(token) for token in test]\n",
    "word2vec = Word2Vec(train_tokenized, min_count=10)\n",
    "\n",
    "word2vec.init_sims(replace=True)"
   ]
  },
  {
   "cell_type": "code",
   "execution_count": 11,
   "metadata": {},
   "outputs": [],
   "source": [
    "def sent2vec(reviewTok):\n",
    "    vecSize = len(word2vec.wv[reviewTok[0][0]])\n",
    "    reviewVec = []\n",
    "    for sentence in reviewTok:\n",
    "        vectorSum = num.zeros(vecSize)\n",
    "        empty = True\n",
    "        for token in sentence:\n",
    "            if token in word2vec.wv.vocab:\n",
    "                vectorSum += word2vec.wv[token]\n",
    "                empty = False\n",
    "        if not empty:\n",
    "            vectorSum = vectorSum / num.sqrt((vectorSum ** 2).sum())\n",
    "        reviewVec.append(vectorSum)\n",
    "    return num.array(reviewVec)"
   ]
  },
  {
   "cell_type": "code",
   "execution_count": 12,
   "metadata": {},
   "outputs": [],
   "source": [
    "train_vectors = sent2vec(train_tokenized)\n",
    "test_vectors = sent2vec(test_tokenized)"
   ]
  },
  {
   "cell_type": "markdown",
   "metadata": {},
   "source": [
    "### XGBoost classifier"
   ]
  },
  {
   "cell_type": "code",
   "execution_count": 36,
   "metadata": {},
   "outputs": [
    {
     "ename": "NameError",
     "evalue": "name 'random' is not defined",
     "output_type": "error",
     "traceback": [
      "\u001b[0;31m---------------------------------------------------------------------------\u001b[0m",
      "\u001b[0;31mNameError\u001b[0m                                 Traceback (most recent call last)",
      "\u001b[0;32m<ipython-input-36-cd8b9f6a5d81>\u001b[0m in \u001b[0;36m<module>\u001b[0;34m\u001b[0m\n\u001b[1;32m      1\u001b[0m \u001b[0;32mfrom\u001b[0m \u001b[0mxgboost\u001b[0m \u001b[0;32mimport\u001b[0m \u001b[0mXGBClassifier\u001b[0m\u001b[0;34m\u001b[0m\u001b[0;34m\u001b[0m\u001b[0m\n\u001b[0;32m----> 2\u001b[0;31m \u001b[0mxgbclassifier\u001b[0m \u001b[0;34m=\u001b[0m \u001b[0mXGBClassifier\u001b[0m\u001b[0;34m(\u001b[0m\u001b[0mrandom\u001b[0m \u001b[0;34m)\u001b[0m\u001b[0;34m\u001b[0m\u001b[0;34m\u001b[0m\u001b[0m\n\u001b[0m\u001b[1;32m      3\u001b[0m \u001b[0mxgbclassifier\u001b[0m\u001b[0;34m.\u001b[0m\u001b[0mfit\u001b[0m\u001b[0;34m(\u001b[0m\u001b[0mtrain_vectors\u001b[0m\u001b[0;34m,\u001b[0m \u001b[0mtrainStars\u001b[0m\u001b[0;34m)\u001b[0m\u001b[0;34m\u001b[0m\u001b[0;34m\u001b[0m\u001b[0m\n\u001b[1;32m      4\u001b[0m \u001b[0mprint\u001b[0m\u001b[0;34m(\u001b[0m\u001b[0mxgbclassifier\u001b[0m\u001b[0;34m.\u001b[0m\u001b[0mscore\u001b[0m\u001b[0;34m(\u001b[0m\u001b[0mtest_vectors\u001b[0m\u001b[0;34m,\u001b[0m \u001b[0mtestStars\u001b[0m\u001b[0;34m)\u001b[0m\u001b[0;34m*\u001b[0m\u001b[0;36m100\u001b[0m\u001b[0;34m,\u001b[0m \u001b[0;34m'%'\u001b[0m\u001b[0;34m)\u001b[0m\u001b[0;34m\u001b[0m\u001b[0;34m\u001b[0m\u001b[0m\n",
      "\u001b[0;31mNameError\u001b[0m: name 'random' is not defined"
     ]
    }
   ],
   "source": [
    "from xgboost import XGBClassifier\n",
    "xgbclassifier = XGBClassifier(booster = 'dart', eta = 0.03, num_round = 2,  max_depth = 5, tree_method = 'hist' )\n",
    "xgbclassifier.fit(train_vectors, trainStars)\n",
    "print(xgbclassifier.score(test_vectors, testStars)*100, '%')\n"
   ]
  },
  {
   "cell_type": "code",
   "execution_count": null,
   "metadata": {},
   "outputs": [],
   "source": []
  },
  {
   "cell_type": "markdown",
   "metadata": {},
   "source": [
    "### Support Vector  Machine classifier"
   ]
  },
  {
   "cell_type": "code",
   "execution_count": 35,
   "metadata": {},
   "outputs": [
    {
     "name": "stdout",
     "output_type": "stream",
     "text": [
      "61.95 %\n"
     ]
    }
   ],
   "source": [
    "from sklearn.svm import SVC\n",
    "\n",
    "best_accuracy = 0\n",
    "best_regularization = 0\n",
    "\n",
    "regularizations = numpy.linspace(1e-10 , 1 ,  15)\n",
    "accuracies = [ ]\n",
    "\n",
    "for regularization in regularizations:\n",
    "    \n",
    "    svc = SVC(gamma= 'auto', C= regularization)\n",
    "    svc.fit(train_vectors, trainStars)\n",
    "    accuracy = svm.score(validation_vectors, validationStars)     #TODO : validationStars and _vectors \n",
    "    accuracies.append(accuracy)\n",
    "    if accuracy > best_accuracy:\n",
    "        best_accuracy = accuracy\n",
    "        best_regularization = regularization\n",
    "    \n",
    "  \n",
    "    print('best accuracy:' , best_accuracy )\n",
    "    print('best regularization parameter (C):' , best_regularization)\n",
    "    \n",
    "    best_svc = SVC( gamma= 'auto', C = best_regularization)\n",
    "    best_svc.fit(test_vectors, testStars)\n",
    "    \n",
    "    print(best_svc.score(test_vectors, testStars)*100, '%')"
   ]
  },
  {
   "cell_type": "markdown",
   "metadata": {},
   "source": [
    "***"
   ]
  },
  {
   "cell_type": "markdown",
   "metadata": {},
   "source": [
    "### Looking for relation between text length and rating\n",
    "Tests with charts"
   ]
  },
  {
   "cell_type": "code",
   "execution_count": 12,
   "metadata": {},
   "outputs": [
    {
     "data": {
      "text/plain": [
       "<seaborn.axisgrid.FacetGrid at 0x1a20ed36a0>"
      ]
     },
     "execution_count": 12,
     "metadata": {},
     "output_type": "execute_result"
    },
    {
     "data": {
      "image/png": "[encoded data removed]",
      "text/plain": [
       "<Figure size 1080x216 with 5 Axes>"
      ]
     },
     "metadata": {
      "needs_background": "light"
     },
     "output_type": "display_data"
    }
   ],
   "source": [
    "g = sns.FacetGrid(data=df_test, col='stars')\n",
    "g.map(plt.hist, 'length', bins=50)"
   ]
  },
  {
   "cell_type": "code",
   "execution_count": 13,
   "metadata": {},
   "outputs": [
    {
     "data": {
      "text/plain": [
       "<matplotlib.axes._subplots.AxesSubplot at 0x1a21d838d0>"
      ]
     },
     "execution_count": 13,
     "metadata": {},
     "output_type": "execute_result"
    },
    {
     "data": {
      "image/png": "[encoded data removed]",
      "text/plain": [
       "<Figure size 432x288 with 1 Axes>"
      ]
     },
     "metadata": {
      "needs_background": "light"
     },
     "output_type": "display_data"
    }
   ],
   "source": [
    "sns.boxplot(x='stars', y='length', data=df_test)"
   ]
  },
  {
   "cell_type": "code",
   "execution_count": 14,
   "metadata": {},
   "outputs": [
    {
     "data": {
      "text/html": [
       "<div>\n",
       "<style scoped>\n",
       "    .dataframe tbody tr th:only-of-type {\n",
       "        vertical-align: middle;\n",
       "    }\n",
       "\n",
       "    .dataframe tbody tr th {\n",
       "        vertical-align: top;\n",
       "    }\n",
       "\n",
       "    .dataframe thead th {\n",
       "        text-align: right;\n",
       "    }\n",
       "</style>\n",
       "<table border=\"1\" class=\"dataframe\">\n",
       "  <thead>\n",
       "    <tr style=\"text-align: right;\">\n",
       "      <th></th>\n",
       "      <th>stars</th>\n",
       "      <th>useful</th>\n",
       "      <th>funny</th>\n",
       "      <th>cool</th>\n",
       "      <th>length</th>\n",
       "    </tr>\n",
       "  </thead>\n",
       "  <tbody>\n",
       "    <tr>\n",
       "      <th>count</th>\n",
       "      <td>10000.000000</td>\n",
       "      <td>10000.000000</td>\n",
       "      <td>10000.000000</td>\n",
       "      <td>10000.000000</td>\n",
       "      <td>10000.000000</td>\n",
       "    </tr>\n",
       "    <tr>\n",
       "      <th>mean</th>\n",
       "      <td>3.768500</td>\n",
       "      <td>1.255300</td>\n",
       "      <td>0.426900</td>\n",
       "      <td>0.543700</td>\n",
       "      <td>587.212100</td>\n",
       "    </tr>\n",
       "    <tr>\n",
       "      <th>std</th>\n",
       "      <td>1.445378</td>\n",
       "      <td>2.864567</td>\n",
       "      <td>1.538601</td>\n",
       "      <td>2.083729</td>\n",
       "      <td>555.143887</td>\n",
       "    </tr>\n",
       "    <tr>\n",
       "      <th>min</th>\n",
       "      <td>1.000000</td>\n",
       "      <td>0.000000</td>\n",
       "      <td>0.000000</td>\n",
       "      <td>0.000000</td>\n",
       "      <td>16.000000</td>\n",
       "    </tr>\n",
       "    <tr>\n",
       "      <th>25%</th>\n",
       "      <td>3.000000</td>\n",
       "      <td>0.000000</td>\n",
       "      <td>0.000000</td>\n",
       "      <td>0.000000</td>\n",
       "      <td>231.000000</td>\n",
       "    </tr>\n",
       "    <tr>\n",
       "      <th>50%</th>\n",
       "      <td>4.000000</td>\n",
       "      <td>0.000000</td>\n",
       "      <td>0.000000</td>\n",
       "      <td>0.000000</td>\n",
       "      <td>410.000000</td>\n",
       "    </tr>\n",
       "    <tr>\n",
       "      <th>75%</th>\n",
       "      <td>5.000000</td>\n",
       "      <td>1.000000</td>\n",
       "      <td>0.000000</td>\n",
       "      <td>0.000000</td>\n",
       "      <td>748.000000</td>\n",
       "    </tr>\n",
       "    <tr>\n",
       "      <th>max</th>\n",
       "      <td>5.000000</td>\n",
       "      <td>101.000000</td>\n",
       "      <td>40.000000</td>\n",
       "      <td>94.000000</td>\n",
       "      <td>4998.000000</td>\n",
       "    </tr>\n",
       "  </tbody>\n",
       "</table>\n",
       "</div>"
      ],
      "text/plain": [
       "              stars        useful         funny          cool        length\n",
       "count  10000.000000  10000.000000  10000.000000  10000.000000  10000.000000\n",
       "mean       3.768500      1.255300      0.426900      0.543700    587.212100\n",
       "std        1.445378      2.864567      1.538601      2.083729    555.143887\n",
       "min        1.000000      0.000000      0.000000      0.000000     16.000000\n",
       "25%        3.000000      0.000000      0.000000      0.000000    231.000000\n",
       "50%        4.000000      0.000000      0.000000      0.000000    410.000000\n",
       "75%        5.000000      1.000000      0.000000      0.000000    748.000000\n",
       "max        5.000000    101.000000     40.000000     94.000000   4998.000000"
      ]
     },
     "execution_count": 14,
     "metadata": {},
     "output_type": "execute_result"
    }
   ],
   "source": [
    "df_test.describe()"
   ]
  },
  {
   "cell_type": "code",
   "execution_count": 15,
   "metadata": {},
   "outputs": [
    {
     "data": {
      "text/html": [
       "<div>\n",
       "<style scoped>\n",
       "    .dataframe tbody tr th:only-of-type {\n",
       "        vertical-align: middle;\n",
       "    }\n",
       "\n",
       "    .dataframe tbody tr th {\n",
       "        vertical-align: top;\n",
       "    }\n",
       "\n",
       "    .dataframe thead th {\n",
       "        text-align: right;\n",
       "    }\n",
       "</style>\n",
       "<table border=\"1\" class=\"dataframe\">\n",
       "  <thead>\n",
       "    <tr style=\"text-align: right;\">\n",
       "      <th></th>\n",
       "      <th>text</th>\n",
       "      <th>cleaned_text</th>\n",
       "      <th>percentage</th>\n",
       "    </tr>\n",
       "    <tr>\n",
       "      <th>stars</th>\n",
       "      <th></th>\n",
       "      <th></th>\n",
       "      <th></th>\n",
       "    </tr>\n",
       "  </thead>\n",
       "  <tbody>\n",
       "    <tr>\n",
       "      <th>1</th>\n",
       "      <td>5821</td>\n",
       "      <td>5821</td>\n",
       "      <td>14.5525</td>\n",
       "    </tr>\n",
       "    <tr>\n",
       "      <th>2</th>\n",
       "      <td>3205</td>\n",
       "      <td>3205</td>\n",
       "      <td>8.0125</td>\n",
       "    </tr>\n",
       "    <tr>\n",
       "      <th>3</th>\n",
       "      <td>4391</td>\n",
       "      <td>4391</td>\n",
       "      <td>10.9775</td>\n",
       "    </tr>\n",
       "    <tr>\n",
       "      <th>4</th>\n",
       "      <td>8845</td>\n",
       "      <td>8845</td>\n",
       "      <td>22.1125</td>\n",
       "    </tr>\n",
       "    <tr>\n",
       "      <th>5</th>\n",
       "      <td>17738</td>\n",
       "      <td>17738</td>\n",
       "      <td>44.3450</td>\n",
       "    </tr>\n",
       "  </tbody>\n",
       "</table>\n",
       "</div>"
      ],
      "text/plain": [
       "        text  cleaned_text  percentage\n",
       "stars                                 \n",
       "1       5821          5821     14.5525\n",
       "2       3205          3205      8.0125\n",
       "3       4391          4391     10.9775\n",
       "4       8845          8845     22.1125\n",
       "5      17738         17738     44.3450"
      ]
     },
     "execution_count": 15,
     "metadata": {},
     "output_type": "execute_result"
    }
   ],
   "source": [
    "starProp_train = df_train.groupby('stars').count().drop('useful', axis=1).drop('funny', axis=1).drop('cool', axis=1).drop('length', axis=1)\n",
    "starProp_train['percentage'] = starProp_train['cleaned_text'] / df_train.shape[0] * 100\n",
    "starProp_train\n"
   ]
  },
  {
   "cell_type": "code",
   "execution_count": 16,
   "metadata": {},
   "outputs": [
    {
     "data": {
      "text/html": [
       "<div>\n",
       "<style scoped>\n",
       "    .dataframe tbody tr th:only-of-type {\n",
       "        vertical-align: middle;\n",
       "    }\n",
       "\n",
       "    .dataframe tbody tr th {\n",
       "        vertical-align: top;\n",
       "    }\n",
       "\n",
       "    .dataframe thead th {\n",
       "        text-align: right;\n",
       "    }\n",
       "</style>\n",
       "<table border=\"1\" class=\"dataframe\">\n",
       "  <thead>\n",
       "    <tr style=\"text-align: right;\">\n",
       "      <th></th>\n",
       "      <th>text</th>\n",
       "      <th>cleaned_text</th>\n",
       "      <th>percentage</th>\n",
       "    </tr>\n",
       "    <tr>\n",
       "      <th>stars</th>\n",
       "      <th></th>\n",
       "      <th></th>\n",
       "      <th></th>\n",
       "    </tr>\n",
       "  </thead>\n",
       "  <tbody>\n",
       "    <tr>\n",
       "      <th>1</th>\n",
       "      <td>1424</td>\n",
       "      <td>1424</td>\n",
       "      <td>14.24</td>\n",
       "    </tr>\n",
       "    <tr>\n",
       "      <th>2</th>\n",
       "      <td>750</td>\n",
       "      <td>750</td>\n",
       "      <td>7.50</td>\n",
       "    </tr>\n",
       "    <tr>\n",
       "      <th>3</th>\n",
       "      <td>1076</td>\n",
       "      <td>1076</td>\n",
       "      <td>10.76</td>\n",
       "    </tr>\n",
       "    <tr>\n",
       "      <th>4</th>\n",
       "      <td>2217</td>\n",
       "      <td>2217</td>\n",
       "      <td>22.17</td>\n",
       "    </tr>\n",
       "    <tr>\n",
       "      <th>5</th>\n",
       "      <td>4533</td>\n",
       "      <td>4533</td>\n",
       "      <td>45.33</td>\n",
       "    </tr>\n",
       "  </tbody>\n",
       "</table>\n",
       "</div>"
      ],
      "text/plain": [
       "       text  cleaned_text  percentage\n",
       "stars                                \n",
       "1      1424          1424       14.24\n",
       "2       750           750        7.50\n",
       "3      1076          1076       10.76\n",
       "4      2217          2217       22.17\n",
       "5      4533          4533       45.33"
      ]
     },
     "execution_count": 16,
     "metadata": {},
     "output_type": "execute_result"
    }
   ],
   "source": [
    "starProp_test = df_test.groupby('stars').count().drop('useful', axis=1).drop('funny', axis=1).drop('cool', axis=1).drop('length', axis=1)\n",
    "starProp_test['percentage'] = starProp_test['cleaned_text'] / df_test.shape[0] * 100\n",
    "starProp_test\n"
   ]
  },
  {
   "cell_type": "markdown",
   "metadata": {},
   "source": [
    "Training and test set have same proportions! :-)"
   ]
  },
  {
   "cell_type": "markdown",
   "metadata": {},
   "source": [
    "ideas:\n",
    "- make a numbers token <NUMBER>\n",
    "- stem the words\n",
    "- remove stopwords\n",
    "- create a personal noun token <PERSONALNOUN>"
   ]
  },
  {
   "cell_type": "code",
   "execution_count": null,
   "metadata": {},
   "outputs": [],
   "source": []
  },
  {
   "cell_type": "code",
   "execution_count": null,
   "metadata": {},
   "outputs": [],
   "source": []
  },
  {
   "cell_type": "code",
   "execution_count": null,
   "metadata": {},
   "outputs": [],
   "source": []
  },
  {
   "cell_type": "code",
   "execution_count": null,
   "metadata": {},
   "outputs": [],
   "source": []
  }
 ],
 "metadata": {
  "kernelspec": {
   "display_name": "Python 3",
   "language": "python",
   "name": "python3"
  },
  "language_info": {
   "codemirror_mode": {
    "name": "ipython",
    "version": 3
   },
   "file_extension": ".py",
   "mimetype": "text/x-python",
   "name": "python",
   "nbconvert_exporter": "python",
   "pygments_lexer": "ipython3",
   "version": "3.7.3"
  }
 },
 "nbformat": 4,
 "nbformat_minor": 2
}
