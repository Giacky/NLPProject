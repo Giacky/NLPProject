{
 "cells": [
  {
   "cell_type": "markdown",
   "metadata": {},
   "source": [
    "# NLP Sentiment Analysis of Yelp Data"
   ]
  },
  {
   "cell_type": "markdown",
   "metadata": {},
   "source": [
    "Importing relevant libraries"
   ]
  },
  {
   "cell_type": "code",
   "execution_count": 1,
   "metadata": {},
   "outputs": [],
   "source": [
    "import numpy as num\n",
    "import scipy as sci\n",
    "import pandas as pd\n",
    "import matplotlib.pyplot as plt\n",
    "import nltk\n",
    "import sklearn as skl\n",
    "import xgboost\n",
    "import gensim\n",
    "import json\n",
    "import re\n",
    "import string\n",
    "import seaborn as sns\n",
    "from sklearn.metrics import confusion_matrix, classification_report"
   ]
  },
  {
   "cell_type": "code",
   "execution_count": 2,
   "metadata": {},
   "outputs": [
    {
     "data": {
      "text/plain": [
       "<matplotlib.axes._subplots.AxesSubplot at 0x13328b400>"
      ]
     },
     "execution_count": 2,
     "metadata": {},
     "output_type": "execute_result"
    },
    {
     "data": {
      "image/png": "[encoded data removed]",
      "text/plain": [
       "<Figure size 432x288 with 1 Axes>"
      ]
     },
     "metadata": {
      "needs_background": "light"
     },
     "output_type": "display_data"
    }
   ],
   "source": [
    "trainingAmount = 40000\n",
    "validationAmount = int(0.2 * trainingAmount)\n",
    "testAmount = 10000\n",
    "\n",
    "# Read JSON files, which are created in 'DatasetPruning' :\n",
    "df_train = pd.read_json('training' + str(int(trainingAmount-validationAmount))  +'.json', lines=True)\n",
    "df_validation = pd.read_json('validation' + str(validationAmount) +'.json', lines = True)\n",
    "df_test = pd.read_json('test' + str(testAmount) +'.json', lines=True)\n",
    "\n",
    "# Reorder the columns of JSON files:\n",
    "df_train = df_train.drop(\"review_id\", axis=1).drop(\"business_id\", axis=1).drop(\"user_id\", axis=1).drop(\"date\", axis=1)\n",
    "df_train = df_train.reindex(['text','stars','useful','funny','cool'], axis=1)\n",
    "\n",
    "df_validation = df_validation.drop(\"review_id\", axis=1).drop(\"business_id\", axis=1).drop(\"user_id\", axis=1).drop(\"date\", axis=1)\n",
    "df_validation = df_validation.reindex(['text','stars','useful','funny','cool'], axis=1)\n",
    "\n",
    "df_test = df_test.drop(\"review_id\", axis=1).drop(\"business_id\", axis=1).drop(\"user_id\", axis=1).drop(\"date\", axis=1)\n",
    "df_test = df_test.reindex(['text','stars','useful','funny','cool'], axis=1)\n",
    "\n"
   ]
  },
  {
   "cell_type": "code",
   "execution_count": 42,
   "metadata": {},
   "outputs": [
    {
     "data": {
      "text/plain": [
       "<matplotlib.axes._subplots.AxesSubplot at 0x13017da20>"
      ]
     },
     "execution_count": 42,
     "metadata": {},
     "output_type": "execute_result"
    },
    {
     "data": {
      "image/png": "[encoded data removed]",
      "text/plain": [
       "<Figure size 432x288 with 1 Axes>"
      ]
     },
     "metadata": {
      "needs_background": "light"
     },
     "output_type": "display_data"
    }
   ],
   "source": [
    "frames = [df_train, df_validation, df_test]\n",
    "df_train_validation_test = pd.concat(frames)\n",
    "df_train_validation_test.groupby(\"stars\")['stars'].count().plot.bar()"
   ]
  },
  {
   "cell_type": "code",
   "execution_count": 39,
   "metadata": {
    "scrolled": true
   },
   "outputs": [
    {
     "data": {
      "text/html": [
       "<div>\n",
       "<style scoped>\n",
       "    .dataframe tbody tr th:only-of-type {\n",
       "        vertical-align: middle;\n",
       "    }\n",
       "\n",
       "    .dataframe tbody tr th {\n",
       "        vertical-align: top;\n",
       "    }\n",
       "\n",
       "    .dataframe thead th {\n",
       "        text-align: right;\n",
       "    }\n",
       "</style>\n",
       "<table border=\"1\" class=\"dataframe\">\n",
       "  <thead>\n",
       "    <tr style=\"text-align: right;\">\n",
       "      <th></th>\n",
       "      <th>text</th>\n",
       "      <th>percentage</th>\n",
       "    </tr>\n",
       "    <tr>\n",
       "      <th>stars</th>\n",
       "      <th></th>\n",
       "      <th></th>\n",
       "    </tr>\n",
       "  </thead>\n",
       "  <tbody>\n",
       "    <tr>\n",
       "      <th>1</th>\n",
       "      <td>5821</td>\n",
       "      <td>14.5525</td>\n",
       "    </tr>\n",
       "    <tr>\n",
       "      <th>2</th>\n",
       "      <td>3205</td>\n",
       "      <td>8.0125</td>\n",
       "    </tr>\n",
       "    <tr>\n",
       "      <th>3</th>\n",
       "      <td>4391</td>\n",
       "      <td>10.9775</td>\n",
       "    </tr>\n",
       "    <tr>\n",
       "      <th>4</th>\n",
       "      <td>8845</td>\n",
       "      <td>22.1125</td>\n",
       "    </tr>\n",
       "    <tr>\n",
       "      <th>5</th>\n",
       "      <td>17738</td>\n",
       "      <td>44.3450</td>\n",
       "    </tr>\n",
       "  </tbody>\n",
       "</table>\n",
       "</div>"
      ],
      "text/plain": [
       "        text  percentage\n",
       "stars                   \n",
       "1       5821     14.5525\n",
       "2       3205      8.0125\n",
       "3       4391     10.9775\n",
       "4       8845     22.1125\n",
       "5      17738     44.3450"
      ]
     },
     "execution_count": 39,
     "metadata": {},
     "output_type": "execute_result"
    }
   ],
   "source": [
    "frames = [df_train, df_validation]\n",
    "df_train_validation = pd.concat(frames)\n",
    "starProp_train = df_train_validation.groupby('stars').count().drop('useful', axis=1).drop('funny', axis=1).drop('cool', axis=1).drop('length', axis=1).drop('cleaned_text', axis=1)\n",
    "starProp_train['percentage'] = starProp_train['text'] / df_train_validation.shape[0] * 100\n",
    "starProp_train\n"
   ]
  },
  {
   "cell_type": "code",
   "execution_count": 36,
   "metadata": {},
   "outputs": [
    {
     "data": {
      "text/html": [
       "<div>\n",
       "<style scoped>\n",
       "    .dataframe tbody tr th:only-of-type {\n",
       "        vertical-align: middle;\n",
       "    }\n",
       "\n",
       "    .dataframe tbody tr th {\n",
       "        vertical-align: top;\n",
       "    }\n",
       "\n",
       "    .dataframe thead th {\n",
       "        text-align: right;\n",
       "    }\n",
       "</style>\n",
       "<table border=\"1\" class=\"dataframe\">\n",
       "  <thead>\n",
       "    <tr style=\"text-align: right;\">\n",
       "      <th></th>\n",
       "      <th>text</th>\n",
       "      <th>percentage</th>\n",
       "    </tr>\n",
       "    <tr>\n",
       "      <th>stars</th>\n",
       "      <th></th>\n",
       "      <th></th>\n",
       "    </tr>\n",
       "  </thead>\n",
       "  <tbody>\n",
       "    <tr>\n",
       "      <th>1</th>\n",
       "      <td>1424</td>\n",
       "      <td>14.24</td>\n",
       "    </tr>\n",
       "    <tr>\n",
       "      <th>2</th>\n",
       "      <td>750</td>\n",
       "      <td>7.50</td>\n",
       "    </tr>\n",
       "    <tr>\n",
       "      <th>3</th>\n",
       "      <td>1076</td>\n",
       "      <td>10.76</td>\n",
       "    </tr>\n",
       "    <tr>\n",
       "      <th>4</th>\n",
       "      <td>2217</td>\n",
       "      <td>22.17</td>\n",
       "    </tr>\n",
       "    <tr>\n",
       "      <th>5</th>\n",
       "      <td>4533</td>\n",
       "      <td>45.33</td>\n",
       "    </tr>\n",
       "  </tbody>\n",
       "</table>\n",
       "</div>"
      ],
      "text/plain": [
       "       text  percentage\n",
       "stars                  \n",
       "1      1424       14.24\n",
       "2       750        7.50\n",
       "3      1076       10.76\n",
       "4      2217       22.17\n",
       "5      4533       45.33"
      ]
     },
     "execution_count": 36,
     "metadata": {},
     "output_type": "execute_result"
    }
   ],
   "source": [
    "starProp_test = df_test.groupby('stars').count().drop('useful', axis=1).drop('funny', axis=1).drop('cool', axis=1).drop('length', axis=1).drop('cleaned_text', axis=1)\n",
    "starProp_test['percentage'] = starProp_test['text'] / df_test.shape[0] * 100\n",
    "starProp_test\n"
   ]
  },
  {
   "cell_type": "markdown",
   "metadata": {},
   "source": [
    "## Defining the clean method"
   ]
  },
  {
   "cell_type": "code",
   "execution_count": 3,
   "metadata": {},
   "outputs": [],
   "source": [
    "def clean(text):\n",
    "    from nltk.stem import WordNetLemmatizer\n",
    "    from nltk.stem.snowball import SnowballStemmer\n",
    "    from nltk.tokenize import word_tokenize\n",
    "    \n",
    "     # Empty question\n",
    "    if type(text) != str:\n",
    "        return ''\n",
    "    \n",
    "    text = text.lower()\n",
    "    \n",
    "    # removing all punctuation\n",
    "    text = re.sub('[' + string.punctuation + ']', ' ', text)\n",
    "    \n",
    "    # frequent spelling mistakes\n",
    "    text = re.sub('im', \"\", text)\n",
    "\n",
    "    \n",
    "    #Tokenizing text for normalizing more easily\n",
    "    tokenized_text = word_tokenize(text)\n",
    "    \n",
    "    \n",
    "    \n",
    "    #Removing stopwords\n",
    "    stopwords = nltk.corpus.stopwords.words('english')\n",
    "    kept_words = ['he', 'she', 'they', 'we']\n",
    "    for kw in kept_words:\n",
    "        stopwords.remove(kw)\n",
    "    \n",
    "    tokenized_text = [w for w in tokenized_text if not w in stopwords] \n",
    "    \n",
    "    \n",
    "    #Removing numbers\n",
    "    tokenized_text = [w for w in tokenized_text if w.isalpha()]\n",
    "    \n",
    "    \n",
    "    \n",
    "    #Putting tokens back together as a string\n",
    "    text = ''\n",
    "    for token in tokenized_text:\n",
    "        text += token + ' '\n",
    "        \n",
    "    \n",
    "    # Return a list of words\n",
    "    return text"
   ]
  },
  {
   "cell_type": "code",
   "execution_count": 4,
   "metadata": {},
   "outputs": [],
   "source": [
    "df_test['length'] = df_test['text'].apply(len)\n",
    "df_validation['length'] = df_validation['text'].apply(len)\n",
    "df_train['length'] = df_train['text'].apply(len)\n"
   ]
  },
  {
   "cell_type": "code",
   "execution_count": 5,
   "metadata": {},
   "outputs": [
    {
     "data": {
      "text/html": [
       "<div>\n",
       "<style scoped>\n",
       "    .dataframe tbody tr th:only-of-type {\n",
       "        vertical-align: middle;\n",
       "    }\n",
       "\n",
       "    .dataframe tbody tr th {\n",
       "        vertical-align: top;\n",
       "    }\n",
       "\n",
       "    .dataframe thead th {\n",
       "        text-align: right;\n",
       "    }\n",
       "</style>\n",
       "<table border=\"1\" class=\"dataframe\">\n",
       "  <thead>\n",
       "    <tr style=\"text-align: right;\">\n",
       "      <th></th>\n",
       "      <th>stars</th>\n",
       "      <th>useful</th>\n",
       "      <th>funny</th>\n",
       "      <th>cool</th>\n",
       "      <th>length</th>\n",
       "    </tr>\n",
       "  </thead>\n",
       "  <tbody>\n",
       "    <tr>\n",
       "      <th>count</th>\n",
       "      <td>32000.000000</td>\n",
       "      <td>32000.000000</td>\n",
       "      <td>32000.000000</td>\n",
       "      <td>32000.000000</td>\n",
       "      <td>32000.000000</td>\n",
       "    </tr>\n",
       "    <tr>\n",
       "      <th>mean</th>\n",
       "      <td>3.741594</td>\n",
       "      <td>1.261562</td>\n",
       "      <td>0.438375</td>\n",
       "      <td>0.538344</td>\n",
       "      <td>582.534000</td>\n",
       "    </tr>\n",
       "    <tr>\n",
       "      <th>std</th>\n",
       "      <td>1.452695</td>\n",
       "      <td>2.757854</td>\n",
       "      <td>1.508815</td>\n",
       "      <td>1.902799</td>\n",
       "      <td>541.088638</td>\n",
       "    </tr>\n",
       "    <tr>\n",
       "      <th>min</th>\n",
       "      <td>1.000000</td>\n",
       "      <td>0.000000</td>\n",
       "      <td>0.000000</td>\n",
       "      <td>0.000000</td>\n",
       "      <td>2.000000</td>\n",
       "    </tr>\n",
       "    <tr>\n",
       "      <th>25%</th>\n",
       "      <td>3.000000</td>\n",
       "      <td>0.000000</td>\n",
       "      <td>0.000000</td>\n",
       "      <td>0.000000</td>\n",
       "      <td>233.000000</td>\n",
       "    </tr>\n",
       "    <tr>\n",
       "      <th>50%</th>\n",
       "      <td>4.000000</td>\n",
       "      <td>0.000000</td>\n",
       "      <td>0.000000</td>\n",
       "      <td>0.000000</td>\n",
       "      <td>415.000000</td>\n",
       "    </tr>\n",
       "    <tr>\n",
       "      <th>75%</th>\n",
       "      <td>5.000000</td>\n",
       "      <td>1.000000</td>\n",
       "      <td>0.000000</td>\n",
       "      <td>0.000000</td>\n",
       "      <td>739.000000</td>\n",
       "    </tr>\n",
       "    <tr>\n",
       "      <th>max</th>\n",
       "      <td>5.000000</td>\n",
       "      <td>91.000000</td>\n",
       "      <td>46.000000</td>\n",
       "      <td>86.000000</td>\n",
       "      <td>5000.000000</td>\n",
       "    </tr>\n",
       "  </tbody>\n",
       "</table>\n",
       "</div>"
      ],
      "text/plain": [
       "              stars        useful         funny          cool        length\n",
       "count  32000.000000  32000.000000  32000.000000  32000.000000  32000.000000\n",
       "mean       3.741594      1.261562      0.438375      0.538344    582.534000\n",
       "std        1.452695      2.757854      1.508815      1.902799    541.088638\n",
       "min        1.000000      0.000000      0.000000      0.000000      2.000000\n",
       "25%        3.000000      0.000000      0.000000      0.000000    233.000000\n",
       "50%        4.000000      0.000000      0.000000      0.000000    415.000000\n",
       "75%        5.000000      1.000000      0.000000      0.000000    739.000000\n",
       "max        5.000000     91.000000     46.000000     86.000000   5000.000000"
      ]
     },
     "execution_count": 5,
     "metadata": {},
     "output_type": "execute_result"
    }
   ],
   "source": [
    "df_train.describe()\n"
   ]
  },
  {
   "cell_type": "markdown",
   "metadata": {},
   "source": [
    "Cleaning the data"
   ]
  },
  {
   "cell_type": "code",
   "execution_count": 6,
   "metadata": {},
   "outputs": [],
   "source": [
    "df_train['cleaned_text'] = df_train['text'].apply(clean)\n",
    "df_validation['cleaned_text'] = df_validation[ 'text'].apply(clean)\n",
    "df_test['cleaned_text'] = df_test['text'].apply(clean)\n"
   ]
  },
  {
   "cell_type": "markdown",
   "metadata": {},
   "source": [
    "Saving all the necessary data in arrays"
   ]
  },
  {
   "cell_type": "code",
   "execution_count": 7,
   "metadata": {},
   "outputs": [],
   "source": [
    "train = df_train['cleaned_text'].values\n",
    "validation = df_validation['cleaned_text'].values\n",
    "test = df_test['cleaned_text'].values\n",
    "\n",
    "trainStars = df_train['stars'].values\n",
    "validationStars = df_validation['stars'].values\n",
    "testStars = df_test['stars'].values"
   ]
  },
  {
   "cell_type": "code",
   "execution_count": 8,
   "metadata": {},
   "outputs": [],
   "source": [
    "def show_confusion_matrix(cm):\n",
    "    df_cm = pd.DataFrame(cm, index = [i for i in \"12345\"],\n",
    "                      columns = [i for i in \"12345\"])\n",
    "    plt.figure(figsize = (10,7))\n",
    "    sns.heatmap(df_cm, annot=True, fmt='g')\n",
    "    plt.ylabel('Actual')\n",
    "    plt.xlabel('Predicted')"
   ]
  },
  {
   "cell_type": "code",
   "execution_count": 9,
   "metadata": {},
   "outputs": [],
   "source": [
    "def show_confusion_matrix_proportions(cm):\n",
    "    confusion_matrix_proportions = []\n",
    "    for n in range(cm.shape[0]):\n",
    "        confusion_matrix_proportions.append(cm[n,:]/df_test.groupby('stars').count().at[n+1, 'text'])\n",
    "\n",
    "    confusion_matrix_proportions = num.array(confusion_matrix_proportions)\n",
    "\n",
    "    df_cm = pd.DataFrame(confusion_matrix_proportions, index = [i for i in \"12345\"],\n",
    "                      columns = [i for i in \"12345\"])\n",
    "    plt.figure(figsize = (10,7))\n",
    "    sns.heatmap(df_cm, annot=True, fmt='g')\n",
    "    plt.ylabel('Actual')\n",
    "    plt.xlabel('Predicted')"
   ]
  },
  {
   "cell_type": "markdown",
   "metadata": {},
   "source": [
    "## BOW model with Naïve Bayes Classifier"
   ]
  },
  {
   "cell_type": "code",
   "execution_count": 10,
   "metadata": {},
   "outputs": [],
   "source": [
    "from sklearn.feature_extraction.text import CountVectorizer\n",
    "from sklearn.naive_bayes import MultinomialNB\n",
    "\n",
    "vectorizer = CountVectorizer()\n",
    "trainVecs = vectorizer.fit_transform(train)\n",
    "testVecs = vectorizer.transform(test)"
   ]
  },
  {
   "cell_type": "code",
   "execution_count": 11,
   "metadata": {},
   "outputs": [
    {
     "data": {
      "text/plain": [
       "MultinomialNB(alpha=1.0, class_prior=None, fit_prior=True)"
      ]
     },
     "execution_count": 11,
     "metadata": {},
     "output_type": "execute_result"
    }
   ],
   "source": [
    "from sklearn.naive_bayes import MultinomialNB\n",
    "classifierNB = MultinomialNB()\n",
    "classifierNB.fit(trainVecs, trainStars)"
   ]
  },
  {
   "cell_type": "code",
   "execution_count": 12,
   "metadata": {},
   "outputs": [
    {
     "name": "stdout",
     "output_type": "stream",
     "text": [
      "60.760000000000005 %\n"
     ]
    }
   ],
   "source": [
    "testStars_predicted = classifierNB.predict(testVecs)\n",
    "print(classifierNB.score(testVecs, testStars)*100, \"%\")"
   ]
  },
  {
   "cell_type": "code",
   "execution_count": 13,
   "metadata": {
    "scrolled": true
   },
   "outputs": [
    {
     "data": {
      "image/png": "[encoded data removed]",
      "text/plain": [
       "<Figure size 720x504 with 2 Axes>"
      ]
     },
     "metadata": {
      "needs_background": "light"
     },
     "output_type": "display_data"
    }
   ],
   "source": [
    "conf_matrix = confusion_matrix(testStars, testStars_predicted, labels=None, sample_weight=None)\n",
    "\n",
    "show_confusion_matrix(conf_matrix)"
   ]
  },
  {
   "cell_type": "code",
   "execution_count": 14,
   "metadata": {},
   "outputs": [
    {
     "data": {
      "image/png": "[encoded data removed]",
      "text/plain": [
       "<Figure size 720x504 with 2 Axes>"
      ]
     },
     "metadata": {
      "needs_background": "light"
     },
     "output_type": "display_data"
    }
   ],
   "source": [
    "show_confusion_matrix_proportions(conf_matrix)"
   ]
  },
  {
   "cell_type": "code",
   "execution_count": 15,
   "metadata": {},
   "outputs": [
    {
     "name": "stdout",
     "output_type": "stream",
     "text": [
      "              precision    recall  f1-score   support\n",
      "\n",
      "           1    0.64121   0.74298   0.68835      1424\n",
      "           2    0.36076   0.15200   0.21388       750\n",
      "           3    0.35724   0.24071   0.28762      1076\n",
      "           4    0.43537   0.60622   0.50679      2217\n",
      "           5    0.78186   0.72822   0.75408      4533\n",
      "\n",
      "   micro avg    0.60760   0.60760   0.60760     10000\n",
      "   macro avg    0.51529   0.49402   0.49015     10000\n",
      "weighted avg    0.60774   0.60760   0.59919     10000\n",
      "\n"
     ]
    }
   ],
   "source": [
    "print(classification_report(testStars, testStars_predicted, digits=5))"
   ]
  },
  {
   "cell_type": "code",
   "execution_count": 16,
   "metadata": {},
   "outputs": [
    {
     "data": {
      "text/plain": [
       "Counter({1: 2940, 0: 6076, 2: 542, 4: 256, 3: 186})"
      ]
     },
     "execution_count": 16,
     "metadata": {},
     "output_type": "execute_result"
    }
   ],
   "source": [
    "import collections\n",
    "distance = num.abs(testStars - testStars_predicted)\n",
    "collections.Counter(distance)"
   ]
  },
  {
   "cell_type": "markdown",
   "metadata": {},
   "source": [
    "## Word2Vec model\n",
    "Tokenizing the words"
   ]
  },
  {
   "cell_type": "code",
   "execution_count": 17,
   "metadata": {},
   "outputs": [],
   "source": [
    "from gensim.models import Word2Vec\n",
    "from nltk.tokenize import word_tokenize\n",
    "\n",
    "train_tokenized = [word_tokenize(token) for token in train]\n",
    "validation_tokenized = [word_tokenize(token) for token in validation]\n",
    "test_tokenized = [word_tokenize(token) for token in test]\n",
    "word2vec = Word2Vec(train_tokenized + validation_tokenized, min_count=10) # Vector size left at default value of 100 after experimenting\n",
    "\n",
    "word2vec.init_sims(replace=True)\n"
   ]
  },
  {
   "cell_type": "code",
   "execution_count": 18,
   "metadata": {},
   "outputs": [],
   "source": [
    "def sent2vec(reviewTok):\n",
    "    vecSize = len(word2vec.wv[reviewTok[0][0]])\n",
    "    reviewVec = []\n",
    "    for review in reviewTok:\n",
    "        vectorSum = num.zeros(vecSize)\n",
    "        empty = True\n",
    "        for token in review:\n",
    "            if token in word2vec.wv.vocab:\n",
    "                vectorSum += word2vec.wv[token]\n",
    "                empty = False\n",
    "        if not empty:\n",
    "            vectorSum = vectorSum / num.sqrt((vectorSum ** 2).sum())\n",
    "        reviewVec.append(vectorSum)\n",
    "    return num.array(reviewVec)"
   ]
  },
  {
   "cell_type": "code",
   "execution_count": 19,
   "metadata": {},
   "outputs": [],
   "source": [
    "train_vectors = sent2vec(train_tokenized)\n",
    "validation_vectors = sent2vec(validation_tokenized)\n",
    "test_vectors = sent2vec(test_tokenized)"
   ]
  },
  {
   "cell_type": "markdown",
   "metadata": {},
   "source": [
    "### XGBoost classifier"
   ]
  },
  {
   "cell_type": "code",
   "execution_count": 43,
   "metadata": {},
   "outputs": [
    {
     "name": "stdout",
     "output_type": "stream",
     "text": [
      "best accuracy: 0.619875\n",
      "best regularization parameter (C): 0.0\n",
      "----------------------------------------------------\n",
      "best accuracy: 0.619875\n",
      "best regularization parameter (C): 0.0\n",
      "----------------------------------------------------\n",
      "best accuracy: 0.619875\n",
      "best regularization parameter (C): 0.0\n",
      "----------------------------------------------------\n",
      "best accuracy: 0.619875\n",
      "best regularization parameter (C): 0.0\n",
      "----------------------------------------------------\n",
      "best accuracy: 0.619875\n",
      "best regularization parameter (C): 0.0\n",
      "----------------------------------------------------\n"
     ]
    }
   ],
   "source": [
    "from xgboost import XGBClassifier\n",
    "\n",
    "best_accuracy = 0\n",
    "best_regularization = 0\n",
    "\n",
    "regularizations = num.linspace(0 , 2 ,  5)\n",
    "accuracies = [ ]\n",
    "\n",
    "for regularization in regularizations:\n",
    "    \n",
    "    xgbclassifier = XGBClassifier(gamma = regularization, eta = 0.03, num_round = 2,  max_depth = 5, tree_method = 'hist' )\n",
    "    xgbclassifier.fit(train_vectors, trainStars)\n",
    "    accuracy = xgbclassifier.score(validation_vectors, validationStars)    \n",
    "    accuracies.append(accuracy)\n",
    "    if accuracy > best_accuracy:\n",
    "        best_accuracy = accuracy\n",
    "        best_regularization = regularization\n",
    "\n",
    "    print('best accuracy:' , best_accuracy )\n",
    "    print('best regularization parameter (C):' , best_regularization)\n",
    "    print('----------------------------------------------------')\n",
    "    \n",
    "    best_xgbclassifier = XGBClassifier(booster = 'dart', gamma = best_regularization, eta = 0.03, num_round = 2,  max_depth = 5, tree_method = 'hist' )\n",
    "    best_xgbclassifier.fit(num.vstack((train_vectors, validation_vectors)), num.hstack((trainStars, validationStars))) \n"
   ]
  },
  {
   "cell_type": "code",
   "execution_count": 44,
   "metadata": {},
   "outputs": [
    {
     "name": "stdout",
     "output_type": "stream",
     "text": [
      "Accuracy 63.04 %\n"
     ]
    }
   ],
   "source": [
    "testStars_predicted = classifierNB.predict(testVecs)\n",
    "print('Accuracy', best_xgbclassifier.score(test_vectors, testStars)*100, '%')"
   ]
  },
  {
   "cell_type": "code",
   "execution_count": 45,
   "metadata": {},
   "outputs": [
    {
     "data": {
      "image/png": "[encoded data removed]",
      "text/plain": [
       "<Figure size 720x504 with 2 Axes>"
      ]
     },
     "metadata": {
      "needs_background": "light"
     },
     "output_type": "display_data"
    }
   ],
   "source": [
    "conf_matrix = confusion_matrix(testStars, testStars_predicted, labels=None, sample_weight=None)\n",
    "\n",
    "show_confusion_matrix(conf_matrix)"
   ]
  },
  {
   "cell_type": "code",
   "execution_count": 46,
   "metadata": {
    "scrolled": true
   },
   "outputs": [
    {
     "data": {
      "image/png": "[encoded data removed]",
      "text/plain": [
       "<Figure size 720x504 with 2 Axes>"
      ]
     },
     "metadata": {
      "needs_background": "light"
     },
     "output_type": "display_data"
    }
   ],
   "source": [
    "show_confusion_matrix_proportions(conf_matrix)"
   ]
  },
  {
   "cell_type": "code",
   "execution_count": 47,
   "metadata": {
    "scrolled": true
   },
   "outputs": [
    {
     "name": "stdout",
     "output_type": "stream",
     "text": [
      "              precision    recall  f1-score   support\n",
      "\n",
      "           1    0.64121   0.74298   0.68835      1424\n",
      "           2    0.36076   0.15200   0.21388       750\n",
      "           3    0.35724   0.24071   0.28762      1076\n",
      "           4    0.43537   0.60622   0.50679      2217\n",
      "           5    0.78186   0.72822   0.75408      4533\n",
      "\n",
      "   micro avg    0.60760   0.60760   0.60760     10000\n",
      "   macro avg    0.51529   0.49402   0.49015     10000\n",
      "weighted avg    0.60774   0.60760   0.59919     10000\n",
      "\n"
     ]
    }
   ],
   "source": [
    "print(classification_report(testStars, testStars_predicted, digits=5))"
   ]
  },
  {
   "cell_type": "code",
   "execution_count": 48,
   "metadata": {},
   "outputs": [
    {
     "data": {
      "text/plain": [
       "Counter({1: 2940, 0: 6076, 2: 542, 4: 256, 3: 186})"
      ]
     },
     "execution_count": 48,
     "metadata": {},
     "output_type": "execute_result"
    }
   ],
   "source": [
    "import collections\n",
    "distance = num.abs(testStars - testStars_predicted)\n",
    "collections.Counter(distance) "
   ]
  },
  {
   "cell_type": "markdown",
   "metadata": {},
   "source": [
    "### Support Vector  Machine classifier"
   ]
  },
  {
   "cell_type": "code",
   "execution_count": 26,
   "metadata": {},
   "outputs": [
    {
     "name": "stdout",
     "output_type": "stream",
     "text": [
      "best accuracy: 0.60225\n",
      "best regularization parameter (C): 1.0\n",
      "----------------------------------------------------\n",
      "best accuracy: 0.60775\n",
      "best regularization parameter (C): 1.25\n",
      "----------------------------------------------------\n",
      "best accuracy: 0.611\n",
      "best regularization parameter (C): 1.5\n",
      "----------------------------------------------------\n",
      "best accuracy: 0.612375\n",
      "best regularization parameter (C): 1.75\n",
      "----------------------------------------------------\n",
      "best accuracy: 0.612875\n",
      "best regularization parameter (C): 2.0\n",
      "----------------------------------------------------\n"
     ]
    }
   ],
   "source": [
    "from sklearn.svm import SVC\n",
    "\n",
    "best_accuracy = 0\n",
    "best_regularization = 0\n",
    "\n",
    "regularizations = num.linspace(1, 2, 5)\n",
    "accuracies = []\n",
    "\n",
    "for regularization in regularizations:\n",
    "    \n",
    "    svc = SVC(gamma= 'auto', C= regularization)\n",
    "    svc.fit(train_vectors, trainStars)\n",
    "    accuracy = svc.score(validation_vectors, validationStars)    \n",
    "    accuracies.append(accuracy)\n",
    "    if accuracy > best_accuracy:\n",
    "        best_accuracy = accuracy\n",
    "        best_regularization = regularization\n",
    "    \n",
    "  \n",
    "    print('best accuracy:' , best_accuracy )\n",
    "    print('best regularization parameter (C):', best_regularization)\n",
    "    print('----------------------------------------------------')\n",
    "    \n",
    "    best_svc = SVC( gamma= 'auto', C = best_regularization)\n",
    "    best_svc.fit(num.vstack((train_vectors, validation_vectors)), num.hstack((trainStars, validationStars))) \n",
    "    "
   ]
  },
  {
   "cell_type": "code",
   "execution_count": 27,
   "metadata": {},
   "outputs": [
    {
     "name": "stdout",
     "output_type": "stream",
     "text": [
      "Accuracy 62.980000000000004 %\n"
     ]
    }
   ],
   "source": [
    "testStars_predicted = classifierNB.predict(testVecs)\n",
    "print('Accuracy', best_svc.score(test_vectors, testStars)*100, '%')"
   ]
  },
  {
   "cell_type": "code",
   "execution_count": 28,
   "metadata": {},
   "outputs": [
    {
     "data": {
      "image/png": "[encoded data removed]",
      "text/plain": [
       "<Figure size 720x504 with 2 Axes>"
      ]
     },
     "metadata": {
      "needs_background": "light"
     },
     "output_type": "display_data"
    }
   ],
   "source": [
    "conf_matrix = confusion_matrix(testStars, testStars_predicted, labels=None, sample_weight=None)\n",
    "\n",
    "show_confusion_matrix(conf_matrix)"
   ]
  },
  {
   "cell_type": "code",
   "execution_count": 29,
   "metadata": {},
   "outputs": [
    {
     "data": {
      "image/png": "[encoded data removed]",
      "text/plain": [
       "<Figure size 720x504 with 2 Axes>"
      ]
     },
     "metadata": {
      "needs_background": "light"
     },
     "output_type": "display_data"
    }
   ],
   "source": [
    "show_confusion_matrix_proportions(conf_matrix)"
   ]
  },
  {
   "cell_type": "code",
   "execution_count": 30,
   "metadata": {},
   "outputs": [
    {
     "name": "stdout",
     "output_type": "stream",
     "text": [
      "              precision    recall  f1-score   support\n",
      "\n",
      "           1    0.64121   0.74298   0.68835      1424\n",
      "           2    0.36076   0.15200   0.21388       750\n",
      "           3    0.35724   0.24071   0.28762      1076\n",
      "           4    0.43537   0.60622   0.50679      2217\n",
      "           5    0.78186   0.72822   0.75408      4533\n",
      "\n",
      "   micro avg    0.60760   0.60760   0.60760     10000\n",
      "   macro avg    0.51529   0.49402   0.49015     10000\n",
      "weighted avg    0.60774   0.60760   0.59919     10000\n",
      "\n"
     ]
    }
   ],
   "source": [
    "print(classification_report(testStars, testStars_predicted, digits=5))"
   ]
  },
  {
   "cell_type": "code",
   "execution_count": 31,
   "metadata": {},
   "outputs": [
    {
     "data": {
      "text/plain": [
       "Counter({1: 2940, 0: 6076, 2: 542, 4: 256, 3: 186})"
      ]
     },
     "execution_count": 31,
     "metadata": {},
     "output_type": "execute_result"
    }
   ],
   "source": [
    "import collections\n",
    "distance = num.abs(testStars - testStars_predicted)\n",
    "collections.Counter(distance)"
   ]
  },
  {
   "cell_type": "markdown",
   "metadata": {},
   "source": [
    "***"
   ]
  },
  {
   "cell_type": "markdown",
   "metadata": {},
   "source": [
    "### Looking for relation between text length and rating\n",
    "Tests with charts"
   ]
  },
  {
   "cell_type": "code",
   "execution_count": 32,
   "metadata": {},
   "outputs": [
    {
     "data": {
      "text/plain": [
       "<seaborn.axisgrid.FacetGrid at 0x12cd15828>"
      ]
     },
     "execution_count": 32,
     "metadata": {},
     "output_type": "execute_result"
    },
    {
     "data": {
      "image/png": "[encoded data removed]",
      "text/plain": [
       "<Figure size 1080x216 with 5 Axes>"
      ]
     },
     "metadata": {
      "needs_background": "light"
     },
     "output_type": "display_data"
    }
   ],
   "source": [
    "g = sns.FacetGrid(data=df_test, col='stars')\n",
    "g.map(plt.hist, 'length', bins=50)"
   ]
  },
  {
   "cell_type": "code",
   "execution_count": 33,
   "metadata": {},
   "outputs": [
    {
     "data": {
      "text/plain": [
       "<matplotlib.axes._subplots.AxesSubplot at 0x12bcd3400>"
      ]
     },
     "execution_count": 33,
     "metadata": {},
     "output_type": "execute_result"
    },
    {
     "data": {
      "image/png": "[encoded data removed]",
      "text/plain": [
       "<Figure size 432x288 with 1 Axes>"
      ]
     },
     "metadata": {
      "needs_background": "light"
     },
     "output_type": "display_data"
    }
   ],
   "source": [
    "sns.boxplot(x='stars', y='length', data=df_test)"
   ]
  },
  {
   "cell_type": "code",
   "execution_count": 34,
   "metadata": {},
   "outputs": [
    {
     "data": {
      "text/html": [
       "<div>\n",
       "<style scoped>\n",
       "    .dataframe tbody tr th:only-of-type {\n",
       "        vertical-align: middle;\n",
       "    }\n",
       "\n",
       "    .dataframe tbody tr th {\n",
       "        vertical-align: top;\n",
       "    }\n",
       "\n",
       "    .dataframe thead th {\n",
       "        text-align: right;\n",
       "    }\n",
       "</style>\n",
       "<table border=\"1\" class=\"dataframe\">\n",
       "  <thead>\n",
       "    <tr style=\"text-align: right;\">\n",
       "      <th></th>\n",
       "      <th>stars</th>\n",
       "      <th>useful</th>\n",
       "      <th>funny</th>\n",
       "      <th>cool</th>\n",
       "      <th>length</th>\n",
       "    </tr>\n",
       "  </thead>\n",
       "  <tbody>\n",
       "    <tr>\n",
       "      <th>count</th>\n",
       "      <td>10000.000000</td>\n",
       "      <td>10000.000000</td>\n",
       "      <td>10000.000000</td>\n",
       "      <td>10000.000000</td>\n",
       "      <td>10000.000000</td>\n",
       "    </tr>\n",
       "    <tr>\n",
       "      <th>mean</th>\n",
       "      <td>3.768500</td>\n",
       "      <td>1.255300</td>\n",
       "      <td>0.426900</td>\n",
       "      <td>0.543700</td>\n",
       "      <td>587.212100</td>\n",
       "    </tr>\n",
       "    <tr>\n",
       "      <th>std</th>\n",
       "      <td>1.445378</td>\n",
       "      <td>2.864567</td>\n",
       "      <td>1.538601</td>\n",
       "      <td>2.083729</td>\n",
       "      <td>555.143887</td>\n",
       "    </tr>\n",
       "    <tr>\n",
       "      <th>min</th>\n",
       "      <td>1.000000</td>\n",
       "      <td>0.000000</td>\n",
       "      <td>0.000000</td>\n",
       "      <td>0.000000</td>\n",
       "      <td>16.000000</td>\n",
       "    </tr>\n",
       "    <tr>\n",
       "      <th>25%</th>\n",
       "      <td>3.000000</td>\n",
       "      <td>0.000000</td>\n",
       "      <td>0.000000</td>\n",
       "      <td>0.000000</td>\n",
       "      <td>231.000000</td>\n",
       "    </tr>\n",
       "    <tr>\n",
       "      <th>50%</th>\n",
       "      <td>4.000000</td>\n",
       "      <td>0.000000</td>\n",
       "      <td>0.000000</td>\n",
       "      <td>0.000000</td>\n",
       "      <td>410.000000</td>\n",
       "    </tr>\n",
       "    <tr>\n",
       "      <th>75%</th>\n",
       "      <td>5.000000</td>\n",
       "      <td>1.000000</td>\n",
       "      <td>0.000000</td>\n",
       "      <td>0.000000</td>\n",
       "      <td>748.000000</td>\n",
       "    </tr>\n",
       "    <tr>\n",
       "      <th>max</th>\n",
       "      <td>5.000000</td>\n",
       "      <td>101.000000</td>\n",
       "      <td>40.000000</td>\n",
       "      <td>94.000000</td>\n",
       "      <td>4998.000000</td>\n",
       "    </tr>\n",
       "  </tbody>\n",
       "</table>\n",
       "</div>"
      ],
      "text/plain": [
       "              stars        useful         funny          cool        length\n",
       "count  10000.000000  10000.000000  10000.000000  10000.000000  10000.000000\n",
       "mean       3.768500      1.255300      0.426900      0.543700    587.212100\n",
       "std        1.445378      2.864567      1.538601      2.083729    555.143887\n",
       "min        1.000000      0.000000      0.000000      0.000000     16.000000\n",
       "25%        3.000000      0.000000      0.000000      0.000000    231.000000\n",
       "50%        4.000000      0.000000      0.000000      0.000000    410.000000\n",
       "75%        5.000000      1.000000      0.000000      0.000000    748.000000\n",
       "max        5.000000    101.000000     40.000000     94.000000   4998.000000"
      ]
     },
     "execution_count": 34,
     "metadata": {},
     "output_type": "execute_result"
    }
   ],
   "source": [
    "df_test.describe()"
   ]
  },
  {
   "cell_type": "markdown",
   "metadata": {},
   "source": [
    "Training and test set have same proportions! :-)"
   ]
  },
  {
   "cell_type": "markdown",
   "metadata": {},
   "source": [
    "ideas:\n",
    "- make a numbers token <NUMBER>\n",
    "- stem the words\n",
    "- remove stopwords\n",
    "- create a personal noun token <PERSONALNOUN>"
   ]
  },
  {
   "cell_type": "code",
   "execution_count": null,
   "metadata": {},
   "outputs": [],
   "source": []
  },
  {
   "cell_type": "code",
   "execution_count": null,
   "metadata": {},
   "outputs": [],
   "source": []
  },
  {
   "cell_type": "code",
   "execution_count": null,
   "metadata": {},
   "outputs": [],
   "source": []
  },
  {
   "cell_type": "code",
   "execution_count": null,
   "metadata": {},
   "outputs": [],
   "source": []
  },
  {
   "cell_type": "code",
   "execution_count": null,
   "metadata": {},
   "outputs": [],
   "source": []
  },
  {
   "cell_type": "code",
   "execution_count": null,
   "metadata": {},
   "outputs": [],
   "source": []
  },
  {
   "cell_type": "code",
   "execution_count": null,
   "metadata": {},
   "outputs": [],
   "source": []
  }
 ],
 "metadata": {
  "kernelspec": {
   "display_name": "Python 3",
   "language": "python",
   "name": "python3"
  },
  "language_info": {
   "codemirror_mode": {
    "name": "ipython",
    "version": 3
   },
   "file_extension": ".py",
   "mimetype": "text/x-python",
   "name": "python",
   "nbconvert_exporter": "python",
   "pygments_lexer": "ipython3",
   "version": "3.7.3"
  }
 },
 "nbformat": 4,
 "nbformat_minor": 2
}
